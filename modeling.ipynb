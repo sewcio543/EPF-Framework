{
 "cells": [
  {
   "cell_type": "code",
   "execution_count": null,
   "metadata": {},
   "outputs": [],
   "source": [
    "from sktime.forecasting.model_evaluation import evaluate\n",
    "import numpy as np\n",
    "import pandas as pd\n",
    "from sktime.forecasting.model_selection import ExpandingWindowSplitter\n",
    "from sktime.forecasting.model_selection._split import BaseSplitter\n",
    "from sktime.forecasting.base import ForecastingHorizon\n",
    "import warnings\n",
    "import os\n",
    "from app.data_managers.namespaces import data_ns\n",
    "\n",
    "warnings.filterwarnings(\"ignore\")\n",
    "path = os.path.join(\"data\", \"CURATED\", \"ENERGY_SETTLEMENT_PRICE.csv\")\n",
    "\n",
    "data = pd.read_csv(path, index_col=data_ns.TIME, parse_dates=[data_ns.TIME]).asfreq(\"H\")"
   ]
  },
  {
   "cell_type": "code",
   "execution_count": null,
   "metadata": {},
   "outputs": [],
   "source": [
    "from app.modeling.splitter import split_series\n",
    "    \n",
    "train, test = split_series(\n",
    "    data.squeeze(),\n",
    "    train_start=\"2020-01-01\",\n",
    "    train_end=\"2022-01-01\",\n",
    "    test_len=365*24\n",
    ")\n",
    "\n",
    "cv_data = pd.concat((train, test)).interpolate()"
   ]
  },
  {
   "cell_type": "code",
   "execution_count": null,
   "metadata": {},
   "outputs": [],
   "source": [
    "cv_data"
   ]
  },
  {
   "cell_type": "code",
   "execution_count": null,
   "metadata": {},
   "outputs": [],
   "source": [
    "from app.modeling import get_splitter\n",
    "\n",
    "splitter = get_splitter(intial_window=len(train), testing=True, frac=0.01)\n",
    "cv = splitter.split(cv_data)"
   ]
  },
  {
   "cell_type": "code",
   "execution_count": null,
   "metadata": {},
   "outputs": [],
   "source": [
    "from sktime.forecasting.naive import NaiveForecaster\n",
    "from sktime.performance_metrics.forecasting import MeanAbsoluteError, MeanAbsolutePercentageError, MeanSquaredError\n",
    "from app.modeling.backtesting import TSBacktesting\n",
    "from sktime.forecasting.fbprophet import Prophet\n",
    "from sktime.forecasting.exp_smoothing import ExponentialSmoothing\n",
    "from sktime.forecasting.arima import ARIMA\n",
    "from sktime.forecasting.theta import ThetaForecaster\n",
    "from sktime.forecasting.compose import make_reduction\n",
    "from sklearn.linear_model import LinearRegression\n",
    "\n",
    "\n",
    "prophet = Prophet(\n",
    "    freq=\"H\",\n",
    "    add_country_holidays={'country_name': 'Poland'},\n",
    "    yearly_seasonality=True,\n",
    "    weekly_seasonality=True,\n",
    "    daily_seasonality=True\n",
    ")\n",
    "\n",
    "models = {\n",
    "    \"SEASONAL_NAIVE_MEAN\": NaiveForecaster(strategy=\"mean\", sp=24),\n",
    "    \"SEASONAL_NAIVE_MEAN_3_DAYS\": NaiveForecaster(strategy=\"mean\", sp=24, window_length=72),\n",
    "    # \"PROPHET\": prophet,\n",
    "    # \"DRIFT\": NaiveForecaster(strategy=\"drift\"),\n",
    "    # \"EXP_SM00THING\": ExponentialSmoothing(sp=12, trend=\"add\", seasonal=\"add\"),\n",
    "    # \"SEASONAL_NAIVE\": NaiveForecaster(strategy=\"mean\", sp=1, window_length=24),\n",
    "    # \"REGRESSION\": make_reduction(estimator=LinearRegression(), window_length=3),\n",
    "    # \"AR_1\": ARIMA(order=(3,0,0)),\n",
    "    # \"Theta\": ThetaForecaster(sp=24),\n",
    "    # \"AR_24\": ARIMA(order=(24,0,0))\n",
    "}\n",
    "\n",
    "\n",
    "bt = TSBacktesting(splitter, models=models)"
   ]
  },
  {
   "cell_type": "code",
   "execution_count": null,
   "metadata": {},
   "outputs": [],
   "source": [
    "d = bt.evaluate(cv_data)\n",
    "d"
   ]
  },
  {
   "cell_type": "code",
   "execution_count": null,
   "metadata": {},
   "outputs": [],
   "source": [
    "bt.errors_"
   ]
  },
  {
   "cell_type": "code",
   "execution_count": null,
   "metadata": {},
   "outputs": [],
   "source": [
    "from __future__ import annotations\n",
    "from abc import ABC, abstractmethod\n",
    "from sktime.transformations.series.outlier_detection import HampelFilter\n",
    "from typing import Optional\n",
    "from datetime import datetime\n",
    "from app.data_managers.namespaces import data_ns\n",
    "\n",
    "        \n",
    "\n",
    "from sklearn.pipeline import Pipeline\n",
    "\n",
    "\n",
    "pipe = Pipeline([\n",
    "    # (\"interploate\", LinearInterpolator()),\n",
    "    # (\"trend\", TrendCreator()),\n",
    "    # (\"season\", SeasonIndicatorCreator()),\n",
    "    # (\"weekend\", WeekendIndicatorCreator()),\n",
    "    # (\"day_of_week\", DayOfWeekIndicatorCreator()),\n",
    "    # (\"out\", OutlierFlagCreator(return_bool=False))\n",
    "])\n",
    "\n",
    "X = pipe.fit_transform(data)\n",
    "X"
   ]
  },
  {
   "cell_type": "code",
   "execution_count": null,
   "metadata": {},
   "outputs": [],
   "source": [
    "from app.modeling.transformers.transformers import FuelPricesProvider\n",
    "\n",
    "\n",
    "x = FuelPricesProvider().transform(X)\n",
    "x"
   ]
  },
  {
   "cell_type": "code",
   "execution_count": null,
   "metadata": {},
   "outputs": [],
   "source": [
    "vals[\"ACTUAL\"] = valid_data\n",
    "vals"
   ]
  },
  {
   "cell_type": "code",
   "execution_count": null,
   "metadata": {},
   "outputs": [],
   "source": [
    "day = 11\n",
    "\n",
    "day_data = valid_data.iloc[24 * day: 24 * (day + 1)]\n",
    "day_data.plot()"
   ]
  },
  {
   "cell_type": "code",
   "execution_count": null,
   "metadata": {},
   "outputs": [],
   "source": [
    "import seaborn as sns\n",
    "\n",
    "data[\"HOUR\"] = data.index.hour\n",
    "data[\"MONTH\"] = data.index.month\n",
    "data[\"YEAR\"] = data.index.year\n",
    "data[\"MONTH_DAY\"] = str(data.index.month) + str(data.index.day) \n",
    "\n",
    "sns.barplot(data, x=\"HOUR\", y=\"VALUE\");"
   ]
  },
  {
   "cell_type": "code",
   "execution_count": null,
   "metadata": {},
   "outputs": [],
   "source": [
    "sns.barplot(data, x=\"MONTH_DAY\", y=\"VALUE\");"
   ]
  },
  {
   "cell_type": "code",
   "execution_count": null,
   "metadata": {},
   "outputs": [],
   "source": [
    "sns.barplot(data, x=\"MONTH\", y=\"VALUE\");"
   ]
  },
  {
   "cell_type": "code",
   "execution_count": null,
   "metadata": {},
   "outputs": [],
   "source": [
    "sns.barplot(data, x=\"YEAR\", y=\"VALUE\");"
   ]
  },
  {
   "cell_type": "code",
   "execution_count": null,
   "metadata": {},
   "outputs": [],
   "source": [
    "f = data.groupby(\"DAY_OF_YEAR\")[\"VALUE\"].mean().sort_values(ascending=False)\n",
    "f.loc[3]"
   ]
  },
  {
   "cell_type": "code",
   "execution_count": null,
   "metadata": {},
   "outputs": [],
   "source": [
    "from sktime.transformations.series.outlier_detection import HampelFilter\n",
    "\n",
    "hf = HampelFilter(window_length=24*7)\n",
    "corr = hf.fit_transform(data[\"VALUE\"])\n",
    "\n",
    "hf = HampelFilter(window_length=24*7, return_bool=True)\n",
    "flag = hf.fit_transform(data[\"VALUE\"])"
   ]
  },
  {
   "cell_type": "code",
   "execution_count": null,
   "metadata": {},
   "outputs": [],
   "source": [
    "data[\"OUTLIER\"] = list(map(int, flag))\n",
    "data"
   ]
  },
  {
   "cell_type": "code",
   "execution_count": null,
   "metadata": {},
   "outputs": [],
   "source": [
    "from matplotlib import pyplot as plt\n",
    "\n",
    "ch = data.iloc[1000: 1300]\n",
    "ch[\"VALUE\"].plot()\n",
    "ot = ch.loc[ch[\"OUTLIER\"] == 1]\n",
    "plt.scatter(ot.index, ot[\"VALUE\"], c='r')"
   ]
  },
  {
   "cell_type": "code",
   "execution_count": null,
   "metadata": {},
   "outputs": [],
   "source": [
    "from matplotlib import pyplot as plt\n",
    "from sktime.utils.plotting import plot_series\n",
    "\n",
    "\n",
    "plot_series(*map(lambda x: vals[x].iloc[-100:], vals.columns), labels= vals.columns.to_list(), y_label='Electricity Price', x_label='Time');\n",
    "\n",
    "# plt.plot(valid_data)\n",
    "# vals.plot()\n"
   ]
  },
  {
   "cell_type": "code",
   "execution_count": null,
   "metadata": {},
   "outputs": [],
   "source": [
    "vals.T.values"
   ]
  }
 ],
 "metadata": {
  "kernelspec": {
   "display_name": "energy",
   "language": "python",
   "name": "python3"
  },
  "language_info": {
   "codemirror_mode": {
    "name": "ipython",
    "version": 3
   },
   "file_extension": ".py",
   "mimetype": "text/x-python",
   "name": "python",
   "nbconvert_exporter": "python",
   "pygments_lexer": "ipython3",
   "version": "3.11.0"
  },
  "orig_nbformat": 4
 },
 "nbformat": 4,
 "nbformat_minor": 2
}
