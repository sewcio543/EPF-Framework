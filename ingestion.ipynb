{
 "cells": [
  {
   "cell_type": "code",
   "execution_count": 1,
   "metadata": {},
   "outputs": [],
   "source": [
    "import os\n",
    "import pandas as pd\n",
    "from app.data_managers.readers import FuelPricesReader, WeatherReader, PSEReader , CO2Reader\n",
    "from app.data_managers.uploaders import CSVUploader\n",
    "from app.data_managers.readers.scraping import BaseScraper\n",
    "from pathlib import Path\n",
    "from typing import Union\n",
    "from app.data_managers.namespaces import files_ns"
   ]
  },
  {
   "cell_type": "code",
   "execution_count": 3,
   "metadata": {},
   "outputs": [],
   "source": [
    "data_folder = files_ns.DATA_FOLDER\n",
    "\n",
    "PATH = Union[Path, str]\n",
    "\n",
    "def get_folder_files(path: PATH) -> list[Path]:\n",
    "    dir_ = Path(path)\n",
    "    if not dir_.exists():\n",
    "        raise ValueError(f\"directory {dir_} doesn't exist\")\n",
    "    \n",
    "    files = os.listdir(dir_)\n",
    "    files = list(map(lambda x: dir_ / x, files))\n",
    "    return files"
   ]
  },
  {
   "cell_type": "code",
   "execution_count": null,
   "metadata": {},
   "outputs": [],
   "source": [
    "dir_ = os.path.join(data_folder, \"DEMAND\")\n",
    "files = get_folder_files(dir_)\n",
    "\n",
    "source = 'ENERGY_DEMAND'\n",
    "reader = PSEReader(source)\n",
    "data = reader.read(files)\n",
    "data.head()"
   ]
  },
  {
   "cell_type": "code",
   "execution_count": null,
   "metadata": {},
   "outputs": [],
   "source": [
    "file = os.path.join(data_folder, \"CURATED\", \"ENERGY_DEMAND.csv\")\n",
    "\n",
    "uploader = CSVUploader(file=file)\n",
    "# uploader.upload(data)"
   ]
  },
  {
   "cell_type": "code",
   "execution_count": null,
   "metadata": {},
   "outputs": [],
   "source": [
    "dir_ = os.path.join(data_folder, \"PRICE\")\n",
    "files = get_folder_files(dir_)\n",
    "\n",
    "source = 'ENERGY_SETTLEMENT_PRICE'\n",
    "reader = PSEReader(source)\n",
    "data = reader.read(files)\n",
    "data.head()"
   ]
  },
  {
   "cell_type": "code",
   "execution_count": null,
   "metadata": {},
   "outputs": [],
   "source": [
    "file = os.path.join(data_folder, \"CURATED\", \"ENERGY_SETTLEMENT_PRICE.csv\")\n",
    "\n",
    "uploader = CSVUploader(file=file)\n",
    "# uploader.upload(data)"
   ]
  },
  {
   "cell_type": "code",
   "execution_count": null,
   "metadata": {},
   "outputs": [],
   "source": [
    "source = 'FUEL_PRICES'\n",
    "scraper = BaseScraper(verbose=False)\n",
    "\n",
    "reader = FuelPricesReader(source, scraper=scraper)\n",
    "data = reader.read()\n",
    "data.head()"
   ]
  },
  {
   "cell_type": "code",
   "execution_count": null,
   "metadata": {},
   "outputs": [],
   "source": [
    "file = os.path.join(data_folder, \"CURATED\", \"FUEL_PRICES.csv\")\n",
    "\n",
    "uploader = CSVUploader(file=file)\n",
    "# uploader.upload(data)"
   ]
  },
  {
   "cell_type": "code",
   "execution_count": null,
   "metadata": {},
   "outputs": [],
   "source": [
    "dir_ = os.path.join(data_folder, \"CO2\")\n",
    "files = get_folder_files(dir_)\n",
    "\n",
    "source = 'CO2_SETTLEMENT_PRICES'\n",
    "\n",
    "reader = CO2Reader(source)\n",
    "data = reader.read(files)\n",
    "data.head()"
   ]
  },
  {
   "cell_type": "code",
   "execution_count": null,
   "metadata": {},
   "outputs": [],
   "source": [
    "file = os.path.join(data_folder, \"CURATED\", \"CO2_SETTLEMENT_PRICES.csv\")\n",
    "\n",
    "uploader = CSVUploader(file=file)\n",
    "# uploader.upload(data)"
   ]
  },
  {
   "cell_type": "code",
   "execution_count": 4,
   "metadata": {},
   "outputs": [
    {
     "data": {
      "text/html": [
       "<div>\n",
       "<style scoped>\n",
       "    .dataframe tbody tr th:only-of-type {\n",
       "        vertical-align: middle;\n",
       "    }\n",
       "\n",
       "    .dataframe tbody tr th {\n",
       "        vertical-align: top;\n",
       "    }\n",
       "\n",
       "    .dataframe thead th {\n",
       "        text-align: right;\n",
       "    }\n",
       "</style>\n",
       "<table border=\"1\" class=\"dataframe\">\n",
       "  <thead>\n",
       "    <tr style=\"text-align: right;\">\n",
       "      <th></th>\n",
       "      <th>Temperature</th>\n",
       "      <th>Wind_Speed</th>\n",
       "    </tr>\n",
       "    <tr>\n",
       "      <th>TIME</th>\n",
       "      <th></th>\n",
       "      <th></th>\n",
       "    </tr>\n",
       "  </thead>\n",
       "  <tbody>\n",
       "    <tr>\n",
       "      <th>2018-01-01 00:00:00</th>\n",
       "      <td>4.0</td>\n",
       "      <td>11.0</td>\n",
       "    </tr>\n",
       "    <tr>\n",
       "      <th>2018-01-01 01:00:00</th>\n",
       "      <td>8.0</td>\n",
       "      <td>13.0</td>\n",
       "    </tr>\n",
       "    <tr>\n",
       "      <th>2018-01-01 02:00:00</th>\n",
       "      <td>8.0</td>\n",
       "      <td>14.0</td>\n",
       "    </tr>\n",
       "    <tr>\n",
       "      <th>2018-01-01 03:00:00</th>\n",
       "      <td>9.0</td>\n",
       "      <td>13.0</td>\n",
       "    </tr>\n",
       "    <tr>\n",
       "      <th>2018-01-01 04:00:00</th>\n",
       "      <td>9.0</td>\n",
       "      <td>16.0</td>\n",
       "    </tr>\n",
       "  </tbody>\n",
       "</table>\n",
       "</div>"
      ],
      "text/plain": [
       "                     Temperature  Wind_Speed\n",
       "TIME                                        \n",
       "2018-01-01 00:00:00          4.0        11.0\n",
       "2018-01-01 01:00:00          8.0        13.0\n",
       "2018-01-01 02:00:00          8.0        14.0\n",
       "2018-01-01 03:00:00          9.0        13.0\n",
       "2018-01-01 04:00:00          9.0        16.0"
      ]
     },
     "execution_count": 4,
     "metadata": {},
     "output_type": "execute_result"
    }
   ],
   "source": [
    "dir_ = os.path.join(data_folder, \"WEATHER\")\n",
    "files = get_folder_files(dir_)\n",
    "\n",
    "source = 'WEATHER'\n",
    "\n",
    "reader = WeatherReader(source)\n",
    "data = reader.read(files)\n",
    "data.head()"
   ]
  },
  {
   "cell_type": "code",
   "execution_count": 6,
   "metadata": {},
   "outputs": [],
   "source": [
    "file = os.path.join(data_folder, \"CURATED\", \"WEATHER.csv\")\n",
    "\n",
    "uploader = CSVUploader(file=file)\n",
    "uploader.upload(data)"
   ]
  }
 ],
 "metadata": {
  "kernelspec": {
   "display_name": "energy",
   "language": "python",
   "name": "python3"
  },
  "language_info": {
   "codemirror_mode": {
    "name": "ipython",
    "version": 3
   },
   "file_extension": ".py",
   "mimetype": "text/x-python",
   "name": "python",
   "nbconvert_exporter": "python",
   "pygments_lexer": "ipython3",
   "version": "3.11.0"
  },
  "orig_nbformat": 4
 },
 "nbformat": 4,
 "nbformat_minor": 2
}
